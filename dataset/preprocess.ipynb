{
 "cells": [
  {
   "cell_type": "code",
   "execution_count": null,
   "metadata": {},
   "outputs": [],
   "source": [
    "!pip install pandas"
   ]
  },
  {
   "cell_type": "code",
   "execution_count": 1,
   "metadata": {},
   "outputs": [],
   "source": [
    "import torch\n",
    "from sklearn.feature_extraction.text import CountVectorizer\n",
    "import pandas as pd\n",
    "from sklearn.feature_extraction.text import TfidfVectorizer\n",
    "from sklearn.decomposition import PCA\n",
    "from sklearn.feature_selection import SelectPercentile\n",
    "from sklearn.feature_selection import chi2\n",
    "import numpy"
   ]
  },
  {
   "cell_type": "code",
   "execution_count": null,
   "metadata": {},
   "outputs": [],
   "source": [
    "\n",
    "name=\"Computer\" \n",
    "path=\"minilmdata/elecomp/processed\"\n",
    "data,_=torch.load(f\"{path}/geometric_data_processed.pt\")\n",
    "\n",
    "\n",
    "texts=torch.load(open(f\"{path}/texts.pkl\",\"rb\"))[0]\n",
    "\n",
    "new_raw_texts=[]\n",
    "corpus=[]\n",
    "for i in range(len(texts)):\n",
    "    text=texts[i].strip(\"feature node. \")\n",
    "    \n",
    "    corpus.append(text.strip(\"Review: \"))\n",
    "    text=\"Review: \"+text.strip(\"Review: \")\n",
    "    new_raw_texts.append(text)\n",
    "   \n",
    "    \n",
    "print(corpus[:3])\n",
    "print(new_raw_texts[:3])\n",
    "data.raw_texts=new_raw_texts\n",
    "data.corpus=corpus\n",
    "torch.save(data, path)"
   ]
  },
  {
   "cell_type": "code",
   "execution_count": null,
   "metadata": {},
   "outputs": [],
   "source": [
    "name=\"Child\"\n",
    "path=\"minilmdata/bookchild/processed\"\n",
    "\n",
    "data,_=torch.load(f\"{path}/geometric_data_processed.pt\")\n",
    "df=pd.read_csv(f\"{path}/categories.csv\")\n",
    "categories=df[\"name\"].tolist()\n",
    "data.categories=categories\n",
    "print(data.categories)\n",
    "torch.save(data, f'{name}.pt')\n",
    "\n",
    "\n",
    "data=torch.load(path)\n",
    "texts=torch.load(open(f\"{path}/texts.pkl\",\"rb\"))[0]\n",
    "print(texts[0])\n",
    "\n",
    "new_raw_texts=[]\n",
    "corpus=[]\n",
    "for i in range(len(texts)):\n",
    "    text=texts[i].strip(\"feature node. \")\n",
    "    text=text.strip(\"paper title and abstract:\")\n",
    "    abstract,title=text.split(\"; Title: \")\n",
    "    abstract=abstract.strip(\"Description: \")\n",
    "    new_text=f\"Title: {title}\\nBook Description: {abstract}\"\n",
    "    #print(abstract+\" \"+title)\n",
    "    corpus.append(title+\" \"+abstract)\n",
    "    new_raw_texts.append(new_text)\n",
    "    #print(new_text )\n",
    "    \n",
    "# print(corpus[:5])\n",
    "# print(new_raw_texts[:5])\n",
    "data.raw_texts=new_raw_texts\n",
    "data.corpus=corpus\n",
    "torch.save(data, f'{name}.pt')"
   ]
  },
  {
   "cell_type": "code",
   "execution_count": null,
   "metadata": {},
   "outputs": [],
   "source": [
    "path=\"minilmdata/elephoto/processed\"\n",
    "\n",
    "data,_=torch.load(f\"{path}/geometric_data_processed.pt\")\n",
    "texts=torch.load(open(\"{path}/texts.pkl\",\"rb\"))[0]\n",
    "\n",
    "\n",
    "new_raw_texts=[]\n",
    "corpus=[]\n",
    "for i in range(len(texts)):\n",
    "    text=texts[i].strip(\"feature node. \")\n",
    "    corpus.append(text.strip(\"Review: \"))\n",
    "    new_raw_texts.append(text)\n",
    "    print(new_text )\n",
    "    \n",
    "print(corpus[0])\n",
    "print(new_raw_texts[0])\n",
    "data.raw_texts=new_raw_texts\n",
    "data.corpus=corpus\n",
    "torch.save(data, 'Photo.pt')\n"
   ]
  },
  {
   "cell_type": "code",
   "execution_count": null,
   "metadata": {},
   "outputs": [],
   "source": [
    "path=\"Photo.pt\"\n",
    "data=torch.load(path)\n",
    "data.categories=[ \"Video Surveillance\",\"Accessories\",\"Binoculars & Scopes\", \"Video\", \"Lighting & Studio\", \"Bags & Cases\",\"Tripods & Monopods\",\"Flashes\",  \"Digital Cameras\", \"Film Photography\",  \"Lenses\", \"Underwater Photography\"]\n",
    "print(data.categories)\n",
    "torch.save(data, path)"
   ]
  },
  {
   "cell_type": "code",
   "execution_count": null,
   "metadata": {},
   "outputs": [],
   "source": [
    "\n",
    "path=\"Computer.pt\"\n",
    "data=torch.load(path)\n",
    "\n",
    "data.categories=[\"Computer Accessories & Peripherals\",\"Tablet Accessories\",\"Laptop Accessories\", \\\n",
    "\"Computers & Tablets\",  \"Computer Components\", \"Data Storage\",  \"Networking Products\",\\\n",
    " \"Monitors\",  \"Servers\", \"Tablet Replacement Part\"]\n",
    "# print(data.categories)\n",
    "torch.save(data, path)"
   ]
  },
  {
   "cell_type": "code",
   "execution_count": null,
   "metadata": {},
   "outputs": [],
   "source": [
    "\n",
    "path=\"Cora.pt\"\n",
    "data=torch.load(path)\n",
    "data.categories=['Rule Learning', 'Neural Networks', 'Case Based', 'Genetic Algorithms', 'Theory', 'Reinforcement Learning', 'Probabilistic Methods']\n",
    "print(data.categories)\n",
    "torch.save(data, path)"
   ]
  },
  {
   "cell_type": "code",
   "execution_count": null,
   "metadata": {},
   "outputs": [],
   "source": [
    "path=\"PubMed.pt\"\n",
    "data=torch.load(path)\n",
    "data.categories=['Diabetes Mellitus, Experimental', 'Diabetes Mellitus Type 1', 'Diabetes Mellitus Type 2']\n",
    "print(data.categories)\n",
    "torch.save(data, path)"
   ]
  },
  {
   "cell_type": "code",
   "execution_count": 10,
   "metadata": {},
   "outputs": [],
   "source": [
    "path=\"Citeseer.pt\"\n",
    "data=torch.load(path)"
   ]
  },
  {
   "cell_type": "code",
   "execution_count": null,
   "metadata": {},
   "outputs": [],
   "source": [
    "unique_labels, counts = numpy.unique(data.y, return_counts=True)\n",
    "counts"
   ]
  },
  {
   "cell_type": "code",
   "execution_count": 2,
   "metadata": {},
   "outputs": [],
   "source": [
    "# n-gram BOW + PCA100\n",
    "def get_bow(name):\n",
    "\n",
    "\n",
    "    path=f\"{name}.pt\"\n",
    "    data=torch.load(path)\n",
    "\n",
    "    vectorizer = CountVectorizer()\n",
    "    X = vectorizer.fit_transform(data.corpus)\n",
    "    feature_names = vectorizer.get_feature_names_out()\n",
    "\n",
    "    pca = PCA(n_components = 100)\n",
    "    X= pca.fit_transform(X)\n",
    "\n",
    "    data.bow_x=X \n",
    "    # print(data.bow_x.shape) \n",
    "    torch.save(data, f'{name}.pt')"
   ]
  },
  {
   "cell_type": "code",
   "execution_count": null,
   "metadata": {},
   "outputs": [],
   "source": [
    "for name in [\"Citeseer\",\"Photo\",\"Computer\", \"Child\"]:\n",
    "    get_bow(name)"
   ]
  },
  {
   "cell_type": "code",
   "execution_count": 2,
   "metadata": {},
   "outputs": [],
   "source": [
    "# Average text length\n",
    "def ave_text_len():\n",
    "    for name in [\"Cora\",\"PubMed\",\"Citeseer\", \"Computer\",\"Child\",\"Photo\"]:\n",
    "        path=f\"{name}.pt\"\n",
    "        data=torch.load(path)\n",
    "\n",
    "        sum=0\n",
    "        cnt=0\n",
    "        for text in data.raw_texts:\n",
    "            sum+=len(text)\n",
    "            cnt+=1\n",
    "        print(name, sum/cnt)"
   ]
  },
  {
   "cell_type": "code",
   "execution_count": null,
   "metadata": {},
   "outputs": [],
   "source": [
    "ave_text_len()"
   ]
  }
 ],
 "metadata": {
  "kernelspec": {
   "display_name": "latag",
   "language": "python",
   "name": "python3"
  },
  "language_info": {
   "codemirror_mode": {
    "name": "ipython",
    "version": 3
   },
   "file_extension": ".py",
   "mimetype": "text/x-python",
   "name": "python",
   "nbconvert_exporter": "python",
   "pygments_lexer": "ipython3",
   "version": "3.12.7"
  }
 },
 "nbformat": 4,
 "nbformat_minor": 2
}
