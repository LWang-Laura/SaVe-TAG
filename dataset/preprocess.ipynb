{
 "cells": [
  {
   "cell_type": "code",
   "execution_count": null,
   "metadata": {},
   "outputs": [],
   "source": [
    "!pip install pandas"
   ]
  },
  {
   "cell_type": "code",
   "execution_count": 2,
   "metadata": {},
   "outputs": [],
   "source": [
    "import torch\n",
    "from sklearn.feature_extraction.text import CountVectorizer\n",
    "import pandas as pd\n",
    "from sklearn.feature_extraction.text import TfidfVectorizer\n",
    "from sklearn.decomposition import PCA\n",
    "from sklearn.feature_selection import SelectPercentile\n",
    "from sklearn.feature_selection import chi2\n",
    "import numpy"
   ]
  },
  {
   "cell_type": "code",
   "execution_count": 22,
   "metadata": {},
   "outputs": [
    {
     "name": "stdout",
     "output_type": "stream",
     "text": [
      "Data(edge_index=[2, 721081], y=[87229], train_mask=[87229], val_mask=[87229], test_mask=[87229], node_text_feat=[87229, 384], edge_text_feat=[1, 384], noi_node_text_feat=[1, 384], class_node_text_feat=[10, 384], prompt_edge_text_feat=[3, 384])\n",
      "[\"A must have I recently purchased the CD Player/Cassette Music belt and I couldn't be more happy. It is so nice to have my hands free when I exercise (and no more sweaty CD Player)! It fits comfortably around your waist and has a separate compartment to hold your keys, etc. Another thing I love is the material. It is soft and cushiony, as well as stylish. I plan to suprise a few friends on Christmas with this fab produc\", \"Excellent I own three of these - one for each computer I regularly use. They last forever, and never even need cleaning as they never get jumpy. There is never any slippage, so it works much better than a ball-based mouse for things like Quake where you may want to make fast but precise movements. There are four buttons which can be programmed to do whatever you want. For example, I set one of the extra buttons to be the back button in my web browser. Now I can move through web sites one-handed without having to move the pointed up over the back button constantly. This also allowed me to switch my IE toolbar to use small icons with no text labels, freeing up screen space. The only possible suggestion I can come up with is that it would be nice if they added on a scroll-wheel like all the new mice seem to have. I'll never go back to using regular mice as long as Kensington keeps making thes\", \"All-in-wonder OK, but could be better ! Hi all, Well, I was the first to buy one of these cards inSouth Africa. And yes there were some pitfalls, but I'll get intothose later ... At the price it is a great card. DVD facilities, digital VCR, graphics accelerator and a whole host of usefull software included in the bundle. The graphics of the card are great, I was originally going for the 32M Riva TNT but when I saw the features of this card I was sold. Playing Half-life, Unreal, Speed 3, Star-Wars pod racer I have NO complaints - this card does what it's supposed to ... As far as the pitfalls go, Hmmmmmm , documentation inside the box , well, it is in all languages possible but doesn't really tell you much ! I was trying to read German to see if there was anything that was skipped out in the English version ! There is an on-line fault reporting service but they do take their time replying but they did manage to clear up one of my problems - I am still waiting for a reply for the other. I would really reccomend a large hard drive for the video capture feature, the files are BIG when saved in editable formats - but the software bundle does include a utility to compress the video into MPEG2 format which is a lot smaller but is still big. All in all, yes I would reccomend this card, I mean look at all of the features\"]\n",
      "[\"Review: A must have I recently purchased the CD Player/Cassette Music belt and I couldn't be more happy. It is so nice to have my hands free when I exercise (and no more sweaty CD Player)! It fits comfortably around your waist and has a separate compartment to hold your keys, etc. Another thing I love is the material. It is soft and cushiony, as well as stylish. I plan to suprise a few friends on Christmas with this fab produc\", \"Review: Excellent I own three of these - one for each computer I regularly use. They last forever, and never even need cleaning as they never get jumpy. There is never any slippage, so it works much better than a ball-based mouse for things like Quake where you may want to make fast but precise movements. There are four buttons which can be programmed to do whatever you want. For example, I set one of the extra buttons to be the back button in my web browser. Now I can move through web sites one-handed without having to move the pointed up over the back button constantly. This also allowed me to switch my IE toolbar to use small icons with no text labels, freeing up screen space. The only possible suggestion I can come up with is that it would be nice if they added on a scroll-wheel like all the new mice seem to have. I'll never go back to using regular mice as long as Kensington keeps making thes\", \"Review: All-in-wonder OK, but could be better ! Hi all, Well, I was the first to buy one of these cards inSouth Africa. And yes there were some pitfalls, but I'll get intothose later ... At the price it is a great card. DVD facilities, digital VCR, graphics accelerator and a whole host of usefull software included in the bundle. The graphics of the card are great, I was originally going for the 32M Riva TNT but when I saw the features of this card I was sold. Playing Half-life, Unreal, Speed 3, Star-Wars pod racer I have NO complaints - this card does what it's supposed to ... As far as the pitfalls go, Hmmmmmm , documentation inside the box , well, it is in all languages possible but doesn't really tell you much ! I was trying to read German to see if there was anything that was skipped out in the English version ! There is an on-line fault reporting service but they do take their time replying but they did manage to clear up one of my problems - I am still waiting for a reply for the other. I would really reccomend a large hard drive for the video capture feature, the files are BIG when saved in editable formats - but the software bundle does include a utility to compress the video into MPEG2 format which is a lot smaller but is still big. All in all, yes I would reccomend this card, I mean look at all of the features\"]\n"
     ]
    }
   ],
   "source": [
    "\n",
    "name=\"Computer\" \n",
    "path=\"minilmdata/elecomp/processed\"\n",
    "data,_=torch.load(f\"{path}/geometric_data_processed.pt\")\n",
    "print(data)\n",
    "\n",
    "texts=torch.load(open(f\"{path}/texts.pkl\",\"rb\"))[0]\n",
    "\n",
    "new_raw_texts=[]\n",
    "corpus=[]\n",
    "for i in range(len(texts)):\n",
    "    text=texts[i].strip(\"feature node. \")\n",
    "    \n",
    "    corpus.append(text.strip(\"Review: \"))\n",
    "    text=\"Review: \"+text.strip(\"Review: \")\n",
    "    new_raw_texts.append(text)\n",
    "   \n",
    "    \n",
    "print(corpus[:3])\n",
    "print(new_raw_texts[:3])\n",
    "data.raw_texts=new_raw_texts\n",
    "data.corpus=corpus\n",
    "torch.save(data, f'{name}.pt')"
   ]
  },
  {
   "cell_type": "code",
   "execution_count": 24,
   "metadata": {},
   "outputs": [
    {
     "name": "stdout",
     "output_type": "stream",
     "text": [
      "['Literature & Fiction', 'Animals', 'Growing Up & Facts of Life', 'Humor', 'Cars Trains & Things That Go', 'Fairy Tales Folk Tales & Myths', 'Activities Crafts & Games', 'Science Fiction & Fantasy', 'Classics', 'Mysteries & Detectives', 'Action & Adventure', 'Geography & Cultures', 'Education & Reference', 'Arts Music & Photography', 'Holidays & Celebrations', 'Science Nature & How It Works', 'Early Learning', 'Biographies', 'History', \"Children's Cookbooks\", 'Religions', 'Sports & Outdoors', 'Comics & Graphic Novels', 'Computers & Technology']\n",
      "feature node. paper title and abstract:Description: Collection of Poetry; Title: The golden treasury of poetry\n",
      "['The golden treasury of poetry Collection of Poetry', 'Pop-Up Book : The Quest for the Aztec Go Pop-up book', 'Noddy Toyland Stories (Noddy) Very good condition, hardly any wear from reading. Pages are intact and are not marred by notes or highlighting. The spine remains undamaged but may have spine creases from reading. This book has tons of life left in it.']\n",
      "['Title: The golden treasury of poetry\\nBook Description: Collection of Poetry', 'Title: Pop-Up Book : The Quest for the Aztec Go\\nBook Description: Pop-up book', 'Title: Noddy Toyland Stories (Noddy)\\nBook Description: Very good condition, hardly any wear from reading. Pages are intact and are not marred by notes or highlighting. The spine remains undamaged but may have spine creases from reading. This book has tons of life left in it.']\n"
     ]
    }
   ],
   "source": [
    "name=\"Child\"\n",
    "path=\"minilmdata/bookchild/processed\"\n",
    "\n",
    "data,_=torch.load(f\"{path}/geometric_data_processed.pt\")\n",
    "df=pd.read_csv(f\"minilmdata/bookchild/categories.csv\")\n",
    "categories=df[\"name\"].tolist()\n",
    "data.categories=categories\n",
    "print(data.categories)\n",
    "torch.save(data, f'{name}.pt')\n",
    "\n",
    "\n",
    "texts=torch.load(open(f\"{path}/texts.pkl\",\"rb\"))[0]\n",
    "print(texts[0])\n",
    "\n",
    "new_raw_texts=[]\n",
    "corpus=[]\n",
    "for i in range(len(texts)):\n",
    "    text=texts[i].strip(\"feature node. \")\n",
    "    text=text.strip(\"paper title and abstract:\")\n",
    "    abstract,title=text.split(\"; Title: \")\n",
    "    abstract=abstract.strip(\"Description: \")\n",
    "    new_text=f\"Title: {title}\\nBook Description: {abstract}\"\n",
    "    #print(abstract+\" \"+title)\n",
    "    corpus.append(title+\" \"+abstract)\n",
    "    new_raw_texts.append(new_text)\n",
    "    #print(new_text )\n",
    "    \n",
    "print(corpus[:3])\n",
    "print(new_raw_texts[:3])\n",
    "data.raw_texts=new_raw_texts\n",
    "data.corpus=corpus\n",
    "torch.save(data, f'{name}.pt')"
   ]
  },
  {
   "cell_type": "code",
   "execution_count": 25,
   "metadata": {},
   "outputs": [
    {
     "name": "stdout",
     "output_type": "stream",
     "text": [
      "Mintolta I have mixed feelings about this camera. I have been using it for the past year and have found that while my outdoor picutres come out nicely, indoor shots leave something to be desired. I have tried shots with 200 to 800 speed film and 400 seems to give me the best pictures. I've also noticed that the pictures used with the zoom lense often come out fuzzy, so many of my early pictures weren't too clear. Also, when the camera uses the flash, it takes a while before its ready again. I expected more from the camera, but am happy with its basic outdoor shots\n",
      "Review: Mintolta I have mixed feelings about this camera. I have been using it for the past year and have found that while my outdoor picutres come out nicely, indoor shots leave something to be desired. I have tried shots with 200 to 800 speed film and 400 seems to give me the best pictures. I've also noticed that the pictures used with the zoom lense often come out fuzzy, so many of my early pictures weren't too clear. Also, when the camera uses the flash, it takes a while before its ready again. I expected more from the camera, but am happy with its basic outdoor shots\n"
     ]
    }
   ],
   "source": [
    "path=\"minilmdata/elephoto/processed\"\n",
    "\n",
    "data,_=torch.load(f\"{path}/geometric_data_processed.pt\")\n",
    "texts=torch.load(open(f\"{path}/texts.pkl\",\"rb\"))[0]\n",
    "\n",
    "\n",
    "new_raw_texts=[]\n",
    "corpus=[]\n",
    "for i in range(len(texts)):\n",
    "    text=texts[i].strip(\"feature node. \")\n",
    "    corpus.append(text.strip(\"Review: \"))\n",
    "    new_raw_texts.append(text)\n",
    "    # print(text )\n",
    "    \n",
    "print(corpus[0])\n",
    "print(new_raw_texts[0])\n",
    "data.raw_texts=new_raw_texts\n",
    "data.corpus=corpus\n",
    "torch.save(data, 'Photo.pt')\n"
   ]
  },
  {
   "cell_type": "code",
   "execution_count": 26,
   "metadata": {},
   "outputs": [
    {
     "name": "stdout",
     "output_type": "stream",
     "text": [
      "['Video Surveillance', 'Accessories', 'Binoculars & Scopes', 'Video', 'Lighting & Studio', 'Bags & Cases', 'Tripods & Monopods', 'Flashes', 'Digital Cameras', 'Film Photography', 'Lenses', 'Underwater Photography']\n"
     ]
    }
   ],
   "source": [
    "path=\"Photo.pt\"\n",
    "data=torch.load(path)\n",
    "data.categories=[ \"Video Surveillance\",\"Accessories\",\"Binoculars & Scopes\", \"Video\", \"Lighting & Studio\", \"Bags & Cases\",\"Tripods & Monopods\",\"Flashes\",  \"Digital Cameras\", \"Film Photography\",  \"Lenses\", \"Underwater Photography\"]\n",
    "print(data.categories)\n",
    "torch.save(data, path)"
   ]
  },
  {
   "cell_type": "code",
   "execution_count": 27,
   "metadata": {},
   "outputs": [],
   "source": [
    "\n",
    "path=\"Computer.pt\"\n",
    "data=torch.load(path)\n",
    "\n",
    "data.categories=[\"Computer Accessories & Peripherals\",\"Tablet Accessories\",\"Laptop Accessories\", \\\n",
    "\"Computers & Tablets\",  \"Computer Components\", \"Data Storage\",  \"Networking Products\",\\\n",
    " \"Monitors\",  \"Servers\", \"Tablet Replacement Part\"]\n",
    "# print(data.categories)\n",
    "torch.save(data, path)"
   ]
  },
  {
   "cell_type": "code",
   "execution_count": null,
   "metadata": {},
   "outputs": [],
   "source": [
    "\n",
    "path=\"Cora.pt\"\n",
    "data=torch.load(path)\n",
    "data.categories=['Rule Learning', 'Neural Networks', 'Case Based', 'Genetic Algorithms', 'Theory', 'Reinforcement Learning', 'Probabilistic Methods']\n",
    "print(data.categories)\n",
    "torch.save(data, path)"
   ]
  },
  {
   "cell_type": "code",
   "execution_count": null,
   "metadata": {},
   "outputs": [],
   "source": [
    "path=\"PubMed.pt\"\n",
    "data=torch.load(path)\n",
    "data.categories=['Diabetes Mellitus, Experimental', 'Diabetes Mellitus Type 1', 'Diabetes Mellitus Type 2']\n",
    "print(data.categories)\n",
    "torch.save(data, path)"
   ]
  },
  {
   "cell_type": "code",
   "execution_count": 10,
   "metadata": {},
   "outputs": [],
   "source": [
    "path=\"Citeseer.pt\"\n",
    "data=torch.load(path)"
   ]
  },
  {
   "cell_type": "code",
   "execution_count": 11,
   "metadata": {},
   "outputs": [
    {
     "data": {
      "text/plain": [
       "array([560, 572, 646, 699, 501, 208])"
      ]
     },
     "execution_count": 11,
     "metadata": {},
     "output_type": "execute_result"
    }
   ],
   "source": [
    "unique_labels, counts = numpy.unique(data.y, return_counts=True)\n",
    "counts"
   ]
  },
  {
   "cell_type": "code",
   "execution_count": 2,
   "metadata": {},
   "outputs": [],
   "source": [
    "# n-gram BOW + PCA100\n",
    "def get_bow(name):\n",
    "\n",
    "\n",
    "    path=f\"{name}.pt\"\n",
    "    data=torch.load(path)\n",
    "\n",
    "    vectorizer = CountVectorizer()\n",
    "    X = vectorizer.fit_transform(data.corpus)\n",
    "    feature_names = vectorizer.get_feature_names_out()\n",
    "\n",
    "    pca = PCA(n_components = 100)\n",
    "    X= pca.fit_transform(X)\n",
    "\n",
    "    data.bow_x=X \n",
    "    # print(data.bow_x.shape) \n",
    "    torch.save(data, f'{name}.pt')"
   ]
  },
  {
   "cell_type": "code",
   "execution_count": null,
   "metadata": {},
   "outputs": [],
   "source": [
    "for name in [\"Citeseer\",\"Photo\",\"Computer\", \"Child\"]:\n",
    "    get_bow(name)"
   ]
  },
  {
   "cell_type": "code",
   "execution_count": 2,
   "metadata": {},
   "outputs": [],
   "source": [
    "# Average text length\n",
    "def ave_text_len():\n",
    "    for name in [\"Cora\",\"PubMed\",\"Citeseer\", \"Computer\",\"Child\",\"Photo\"]:\n",
    "        path=f\"{name}.pt\"\n",
    "        data=torch.load(path)\n",
    "\n",
    "        sum=0\n",
    "        cnt=0\n",
    "        for text in data.raw_texts:\n",
    "            sum+=len(text)\n",
    "            cnt+=1\n",
    "        print(name, sum/cnt)"
   ]
  },
  {
   "cell_type": "code",
   "execution_count": null,
   "metadata": {},
   "outputs": [],
   "source": [
    "ave_text_len()"
   ]
  }
 ],
 "metadata": {
  "kernelspec": {
   "display_name": "base",
   "language": "python",
   "name": "python3"
  },
  "language_info": {
   "codemirror_mode": {
    "name": "ipython",
    "version": 3
   },
   "file_extension": ".py",
   "mimetype": "text/x-python",
   "name": "python",
   "nbconvert_exporter": "python",
   "pygments_lexer": "ipython3",
   "version": "3.12.2"
  }
 },
 "nbformat": 4,
 "nbformat_minor": 2
}
